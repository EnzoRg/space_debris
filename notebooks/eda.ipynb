{
 "cells": [
  {
   "cell_type": "markdown",
   "metadata": {},
   "source": [
    "# Exploración de los datos"
   ]
  },
  {
   "cell_type": "code",
   "execution_count": null,
   "metadata": {},
   "outputs": [],
   "source": [
    "import pandas as pd"
   ]
  },
  {
   "cell_type": "code",
   "execution_count": 11,
   "metadata": {},
   "outputs": [],
   "source": [
    "sate = pd.read_json(\"../data/raw/satellites.json\")\n",
    "debris = pd.read_json(\"../data/raw/debris.json\")\n",
    "ucs = pd.read_excel(\"../data/raw/ucs-satellite-database.xlsx\")"
   ]
  },
  {
   "cell_type": "code",
   "execution_count": 12,
   "metadata": {},
   "outputs": [
    {
     "name": "stdout",
     "output_type": "stream",
     "text": [
      "<class 'pandas.core.frame.DataFrame'>\n",
      "RangeIndex: 20328 entries, 0 to 20327\n",
      "Data columns (total 24 columns):\n",
      " #   Column         Non-Null Count  Dtype  \n",
      "---  ------         --------------  -----  \n",
      " 0   INTLDES        20328 non-null  object \n",
      " 1   NORAD_CAT_ID   20328 non-null  int64  \n",
      " 2   OBJECT_TYPE    20328 non-null  object \n",
      " 3   SATNAME        20328 non-null  object \n",
      " 4   COUNTRY        20328 non-null  object \n",
      " 5   LAUNCH         20328 non-null  object \n",
      " 6   SITE           20328 non-null  object \n",
      " 7   DECAY          6142 non-null   object \n",
      " 8   PERIOD         19919 non-null  float64\n",
      " 9   INCLINATION    19919 non-null  float64\n",
      " 10  APOGEE         19919 non-null  float64\n",
      " 11  PERIGEE        19919 non-null  float64\n",
      " 12  COMMENT        394 non-null    object \n",
      " 13  COMMENTCODE    150 non-null    float64\n",
      " 14  RCSVALUE       20328 non-null  int64  \n",
      " 15  RCS_SIZE       18017 non-null  object \n",
      " 16  FILE           20328 non-null  int64  \n",
      " 17  LAUNCH_YEAR    20328 non-null  int64  \n",
      " 18  LAUNCH_NUM     20328 non-null  int64  \n",
      " 19  LAUNCH_PIECE   20328 non-null  object \n",
      " 20  CURRENT        20328 non-null  object \n",
      " 21  OBJECT_NAME    20328 non-null  object \n",
      " 22  OBJECT_ID      20328 non-null  object \n",
      " 23  OBJECT_NUMBER  20328 non-null  int64  \n",
      "dtypes: float64(5), int64(6), object(13)\n",
      "memory usage: 3.7+ MB\n"
     ]
    }
   ],
   "source": [
    "sate.info()"
   ]
  },
  {
   "cell_type": "code",
   "execution_count": 13,
   "metadata": {},
   "outputs": [
    {
     "name": "stdout",
     "output_type": "stream",
     "text": [
      "<class 'pandas.core.frame.DataFrame'>\n",
      "RangeIndex: 35606 entries, 0 to 35605\n",
      "Data columns (total 24 columns):\n",
      " #   Column         Non-Null Count  Dtype  \n",
      "---  ------         --------------  -----  \n",
      " 0   INTLDES        35606 non-null  object \n",
      " 1   NORAD_CAT_ID   35606 non-null  int64  \n",
      " 2   OBJECT_TYPE    35606 non-null  object \n",
      " 3   SATNAME        35606 non-null  object \n",
      " 4   COUNTRY        35606 non-null  object \n",
      " 5   LAUNCH         35606 non-null  object \n",
      " 6   SITE           35606 non-null  object \n",
      " 7   DECAY          22672 non-null  object \n",
      " 8   PERIOD         35262 non-null  float64\n",
      " 9   INCLINATION    35262 non-null  float64\n",
      " 10  APOGEE         35262 non-null  float64\n",
      " 11  PERIGEE        35262 non-null  float64\n",
      " 12  COMMENT        335 non-null    object \n",
      " 13  COMMENTCODE    3286 non-null   float64\n",
      " 14  RCSVALUE       35606 non-null  int64  \n",
      " 15  RCS_SIZE       29537 non-null  object \n",
      " 16  FILE           35606 non-null  int64  \n",
      " 17  LAUNCH_YEAR    35606 non-null  int64  \n",
      " 18  LAUNCH_NUM     35606 non-null  int64  \n",
      " 19  LAUNCH_PIECE   35606 non-null  object \n",
      " 20  CURRENT        35606 non-null  object \n",
      " 21  OBJECT_NAME    35606 non-null  object \n",
      " 22  OBJECT_ID      35606 non-null  object \n",
      " 23  OBJECT_NUMBER  35606 non-null  int64  \n",
      "dtypes: float64(5), int64(6), object(13)\n",
      "memory usage: 6.5+ MB\n"
     ]
    }
   ],
   "source": [
    "debris.info()"
   ]
  },
  {
   "cell_type": "code",
   "execution_count": 14,
   "metadata": {},
   "outputs": [
    {
     "name": "stdout",
     "output_type": "stream",
     "text": [
      "<class 'pandas.core.frame.DataFrame'>\n",
      "RangeIndex: 7560 entries, 0 to 7559\n",
      "Data columns (total 68 columns):\n",
      " #   Column                              Non-Null Count  Dtype  \n",
      "---  ------                              --------------  -----  \n",
      " 0   Name of Satellite, Alternate Names  7560 non-null   object \n",
      " 1   Current Official Name of Satellite  7560 non-null   object \n",
      " 2   Country/Org of UN Registry          7559 non-null   object \n",
      " 3   Country of Operator/Owner           7560 non-null   object \n",
      " 4   Operator/Owner                      7560 non-null   object \n",
      " 5   Users                               7560 non-null   object \n",
      " 6   Purpose                             7560 non-null   object \n",
      " 7   Detailed Purpose                    1254 non-null   object \n",
      " 8   Class of Orbit                      7560 non-null   object \n",
      " 9   Type of Orbit                       6909 non-null   object \n",
      " 10  Longitude of GEO (degrees)          7557 non-null   float64\n",
      " 11  Perigee (km)                        7553 non-null   float64\n",
      " 12  Apogee (km)                         7553 non-null   float64\n",
      " 13  Eccentricity                        7549 non-null   float64\n",
      " 14  Inclination (degrees)               7556 non-null   float64\n",
      " 15  Period (minutes)                    7504 non-null   float64\n",
      " 16  Launch Mass (kg.)                   7315 non-null   float64\n",
      " 17  Dry Mass (kg.)                      767 non-null    object \n",
      " 18  Power (watts)                       579 non-null    object \n",
      " 19  Date of Launch                      7559 non-null   object \n",
      " 20  Expected Lifetime (yrs.)            5450 non-null   float64\n",
      " 21  Contractor                          7560 non-null   object \n",
      " 22  Country of Contractor               7560 non-null   object \n",
      " 23  Launch Site                         7560 non-null   object \n",
      " 24  Launch Vehicle                      7560 non-null   object \n",
      " 25  COSPAR Number                       7560 non-null   object \n",
      " 26  NORAD Number                        7560 non-null   int64  \n",
      " 27  Comments                            2085 non-null   object \n",
      " 28  Unnamed: 28                         5 non-null      object \n",
      " 29  Source Used for Orbital Data        6636 non-null   object \n",
      " 30  Source                              3286 non-null   object \n",
      " 31  Source.1                            725 non-null    object \n",
      " 32  Source.2                            1832 non-null   object \n",
      " 33  Source.3                            1126 non-null   object \n",
      " 34  Source.4                            729 non-null    object \n",
      " 35  Source.5                            553 non-null    object \n",
      " 36  Source.6                            504 non-null    object \n",
      " 37  Unnamed: 37                         484 non-null    object \n",
      " 38  Unnamed: 38                         484 non-null    object \n",
      " 39  Unnamed: 39                         484 non-null    object \n",
      " 40  Unnamed: 40                         484 non-null    object \n",
      " 41  Unnamed: 41                         484 non-null    object \n",
      " 42  Unnamed: 42                         484 non-null    object \n",
      " 43  Unnamed: 43                         484 non-null    object \n",
      " 44  Unnamed: 44                         484 non-null    object \n",
      " 45  Unnamed: 45                         484 non-null    object \n",
      " 46  Unnamed: 46                         484 non-null    object \n",
      " 47  Unnamed: 47                         484 non-null    object \n",
      " 48  Unnamed: 48                         484 non-null    object \n",
      " 49  Unnamed: 49                         484 non-null    object \n",
      " 50  Unnamed: 50                         484 non-null    object \n",
      " 51  Unnamed: 51                         484 non-null    object \n",
      " 52  Unnamed: 52                         484 non-null    object \n",
      " 53  Unnamed: 53                         485 non-null    object \n",
      " 54  Unnamed: 54                         485 non-null    object \n",
      " 55  Unnamed: 55                         485 non-null    object \n",
      " 56  Unnamed: 56                         485 non-null    object \n",
      " 57  Unnamed: 57                         485 non-null    object \n",
      " 58  Unnamed: 58                         485 non-null    object \n",
      " 59  Unnamed: 59                         485 non-null    object \n",
      " 60  Unnamed: 60                         488 non-null    object \n",
      " 61  Unnamed: 61                         488 non-null    object \n",
      " 62  Unnamed: 62                         487 non-null    object \n",
      " 63  Unnamed: 63                         485 non-null    object \n",
      " 64  Unnamed: 64                         485 non-null    object \n",
      " 65  Unnamed: 65                         485 non-null    object \n",
      " 66  Unnamed: 66                         487 non-null    object \n",
      " 67  Unnamed: 67                         485 non-null    object \n",
      "dtypes: float64(8), int64(1), object(59)\n",
      "memory usage: 3.9+ MB\n"
     ]
    }
   ],
   "source": [
    "ucs.info()"
   ]
  }
 ],
 "metadata": {
  "kernelspec": {
   "display_name": "env_1",
   "language": "python",
   "name": "python3"
  },
  "language_info": {
   "codemirror_mode": {
    "name": "ipython",
    "version": 3
   },
   "file_extension": ".py",
   "mimetype": "text/x-python",
   "name": "python",
   "nbconvert_exporter": "python",
   "pygments_lexer": "ipython3",
   "version": "3.11.4"
  }
 },
 "nbformat": 4,
 "nbformat_minor": 2
}
