{
 "cells": [
  {
   "cell_type": "markdown",
   "metadata": {},
   "source": [
    "# Exploración de los datos"
   ]
  },
  {
   "cell_type": "code",
   "execution_count": 67,
   "metadata": {},
   "outputs": [],
   "source": [
    "import pandas as pd\n",
    "import numpy as np\n",
    "import seaborn as sns\n",
    "import matplotlib.pyplot as plt\n",
    "\n",
    "%matplotlib inline"
   ]
  },
  {
   "cell_type": "code",
   "execution_count": 2,
   "metadata": {},
   "outputs": [],
   "source": [
    "sate = pd.read_json(\"../data/raw/satellites.json\")\n",
    "debris = pd.read_json(\"../data/raw/debris.json\")\n",
    "rocket = pd.read_json(\"../data/raw/rockets.json\")\n",
    "unk = pd.read_json(\"../data/raw/unknown.json\")\n",
    "ucs = pd.read_excel(\"../data/raw/ucs-satellite-database.xlsx\")"
   ]
  },
  {
   "cell_type": "code",
   "execution_count": 3,
   "metadata": {},
   "outputs": [],
   "source": [
    "df = pd.concat([sate, debris, rocket, unk], ignore_index=True).sort_values(by='NORAD_CAT_ID')"
   ]
  },
  {
   "cell_type": "code",
   "execution_count": 4,
   "metadata": {},
   "outputs": [
    {
     "name": "stdout",
     "output_type": "stream",
     "text": [
      "<class 'pandas.core.frame.DataFrame'>\n",
      "Index: 63521 entries, 55934 to 63520\n",
      "Data columns (total 24 columns):\n",
      " #   Column         Non-Null Count  Dtype  \n",
      "---  ------         --------------  -----  \n",
      " 0   INTLDES        63521 non-null  object \n",
      " 1   NORAD_CAT_ID   63521 non-null  int64  \n",
      " 2   OBJECT_TYPE    63521 non-null  object \n",
      " 3   SATNAME        63521 non-null  object \n",
      " 4   COUNTRY        63521 non-null  object \n",
      " 5   LAUNCH         63521 non-null  object \n",
      " 6   SITE           63521 non-null  object \n",
      " 7   DECAY          33442 non-null  object \n",
      " 8   PERIOD         62548 non-null  float64\n",
      " 9   INCLINATION    62548 non-null  float64\n",
      " 10  APOGEE         62548 non-null  float64\n",
      " 11  PERIGEE        62548 non-null  float64\n",
      " 12  COMMENT        946 non-null    object \n",
      " 13  COMMENTCODE    3553 non-null   float64\n",
      " 14  RCSVALUE       63521 non-null  int64  \n",
      " 15  RCS_SIZE       53148 non-null  object \n",
      " 16  FILE           63521 non-null  int64  \n",
      " 17  LAUNCH_YEAR    63521 non-null  int64  \n",
      " 18  LAUNCH_NUM     63521 non-null  int64  \n",
      " 19  LAUNCH_PIECE   63521 non-null  object \n",
      " 20  CURRENT        63521 non-null  object \n",
      " 21  OBJECT_NAME    63521 non-null  object \n",
      " 22  OBJECT_ID      63521 non-null  object \n",
      " 23  OBJECT_NUMBER  63521 non-null  int64  \n",
      "dtypes: float64(5), int64(6), object(13)\n",
      "memory usage: 12.1+ MB\n"
     ]
    }
   ],
   "source": [
    "df.info()"
   ]
  },
  {
   "cell_type": "code",
   "execution_count": 5,
   "metadata": {},
   "outputs": [
    {
     "data": {
      "application/vnd.microsoft.datawrangler.viewer.v0+json": {
       "columns": [
        {
         "name": "index",
         "rawType": "int64",
         "type": "integer"
        },
        {
         "name": "INTLDES",
         "rawType": "object",
         "type": "string"
        },
        {
         "name": "NORAD_CAT_ID",
         "rawType": "int64",
         "type": "integer"
        },
        {
         "name": "OBJECT_TYPE",
         "rawType": "object",
         "type": "string"
        },
        {
         "name": "SATNAME",
         "rawType": "object",
         "type": "string"
        },
        {
         "name": "COUNTRY",
         "rawType": "object",
         "type": "string"
        },
        {
         "name": "LAUNCH",
         "rawType": "object",
         "type": "string"
        },
        {
         "name": "SITE",
         "rawType": "object",
         "type": "string"
        },
        {
         "name": "DECAY",
         "rawType": "object",
         "type": "unknown"
        },
        {
         "name": "PERIOD",
         "rawType": "float64",
         "type": "float"
        },
        {
         "name": "INCLINATION",
         "rawType": "float64",
         "type": "float"
        },
        {
         "name": "APOGEE",
         "rawType": "float64",
         "type": "float"
        },
        {
         "name": "PERIGEE",
         "rawType": "float64",
         "type": "float"
        },
        {
         "name": "COMMENT",
         "rawType": "object",
         "type": "unknown"
        },
        {
         "name": "COMMENTCODE",
         "rawType": "float64",
         "type": "float"
        },
        {
         "name": "RCSVALUE",
         "rawType": "int64",
         "type": "integer"
        },
        {
         "name": "RCS_SIZE",
         "rawType": "object",
         "type": "unknown"
        },
        {
         "name": "FILE",
         "rawType": "int64",
         "type": "integer"
        },
        {
         "name": "LAUNCH_YEAR",
         "rawType": "int64",
         "type": "integer"
        },
        {
         "name": "LAUNCH_NUM",
         "rawType": "int64",
         "type": "integer"
        },
        {
         "name": "LAUNCH_PIECE",
         "rawType": "object",
         "type": "string"
        },
        {
         "name": "CURRENT",
         "rawType": "object",
         "type": "string"
        },
        {
         "name": "OBJECT_NAME",
         "rawType": "object",
         "type": "string"
        },
        {
         "name": "OBJECT_ID",
         "rawType": "object",
         "type": "string"
        },
        {
         "name": "OBJECT_NUMBER",
         "rawType": "int64",
         "type": "integer"
        }
       ],
       "ref": "9ca5b5fb-9400-408d-b0ae-10e62f2b9581",
       "rows": [
        [
         "24745",
         "1982-088Z",
         "14649",
         "DEBRIS",
         "COSMOS 1405 DEB",
         "CIS",
         "1982-09-04",
         "TTMTR",
         "1984-01-04",
         "91.06",
         "64.97",
         "356.0",
         "297.0",
         null,
         null,
         "0",
         null,
         "1",
         "1982",
         "88",
         "Z",
         "Y",
         "COSMOS 1405 DEB",
         "1982-088Z",
         "14649"
        ],
        [
         "34780",
         "1986-017HS",
         "22834",
         "DEBRIS",
         "MIR DEB",
         "CIS",
         "1986-02-19",
         "TTMTR",
         "1994-09-03",
         "87.49",
         "51.59",
         "156.0",
         "144.0",
         null,
         null,
         "0",
         "MEDIUM",
         "7337",
         "1986",
         "17",
         "HS",
         "Y",
         "MIR DEB",
         "1986-017HS",
         "22834"
        ],
        [
         "30610",
         "2006-026PL",
         "33180",
         "DEBRIS",
         "COSMOS 2421 DEB",
         "CIS",
         "2006-06-25",
         "TTMTR",
         "2008-10-10",
         "88.67",
         "65.04",
         "217.0",
         "200.0",
         null,
         null,
         "0",
         "SMALL",
         "7337",
         "2006",
         "26",
         "PL",
         "Y",
         "COSMOS 2421 DEB",
         "2006-026PL",
         "33180"
        ],
        [
         "33258",
         "2000-057G",
         "26551",
         "DEBRIS",
         "DNEPR 1 DEB",
         "CIS",
         "2000-09-26",
         "TTMTR",
         "2012-06-10",
         "87.54",
         "64.52",
         "165.0",
         "140.0",
         null,
         null,
         "0",
         "LARGE",
         "7337",
         "2000",
         "57",
         "G",
         "Y",
         "DNEPR 1 DEB",
         "2000-057G",
         "26551"
        ],
        [
         "26305",
         "1993-026D",
         "22786",
         "DEBRIS",
         "ALEXIS DEB",
         "US",
         "1993-04-25",
         "AFWTR",
         null,
         null,
         null,
         null,
         null,
         "NO LONGER ON ORBIT",
         null,
         "0",
         null,
         "1",
         "1993",
         "26",
         "D",
         "Y",
         "ALEXIS DEB",
         "1993-026D",
         "22786"
        ]
       ],
       "shape": {
        "columns": 24,
        "rows": 5
       }
      },
      "text/html": [
       "<div>\n",
       "<style scoped>\n",
       "    .dataframe tbody tr th:only-of-type {\n",
       "        vertical-align: middle;\n",
       "    }\n",
       "\n",
       "    .dataframe tbody tr th {\n",
       "        vertical-align: top;\n",
       "    }\n",
       "\n",
       "    .dataframe thead th {\n",
       "        text-align: right;\n",
       "    }\n",
       "</style>\n",
       "<table border=\"1\" class=\"dataframe\">\n",
       "  <thead>\n",
       "    <tr style=\"text-align: right;\">\n",
       "      <th></th>\n",
       "      <th>INTLDES</th>\n",
       "      <th>NORAD_CAT_ID</th>\n",
       "      <th>OBJECT_TYPE</th>\n",
       "      <th>SATNAME</th>\n",
       "      <th>COUNTRY</th>\n",
       "      <th>LAUNCH</th>\n",
       "      <th>SITE</th>\n",
       "      <th>DECAY</th>\n",
       "      <th>PERIOD</th>\n",
       "      <th>INCLINATION</th>\n",
       "      <th>...</th>\n",
       "      <th>RCSVALUE</th>\n",
       "      <th>RCS_SIZE</th>\n",
       "      <th>FILE</th>\n",
       "      <th>LAUNCH_YEAR</th>\n",
       "      <th>LAUNCH_NUM</th>\n",
       "      <th>LAUNCH_PIECE</th>\n",
       "      <th>CURRENT</th>\n",
       "      <th>OBJECT_NAME</th>\n",
       "      <th>OBJECT_ID</th>\n",
       "      <th>OBJECT_NUMBER</th>\n",
       "    </tr>\n",
       "  </thead>\n",
       "  <tbody>\n",
       "    <tr>\n",
       "      <th>24745</th>\n",
       "      <td>1982-088Z</td>\n",
       "      <td>14649</td>\n",
       "      <td>DEBRIS</td>\n",
       "      <td>COSMOS 1405 DEB</td>\n",
       "      <td>CIS</td>\n",
       "      <td>1982-09-04</td>\n",
       "      <td>TTMTR</td>\n",
       "      <td>1984-01-04</td>\n",
       "      <td>91.06</td>\n",
       "      <td>64.97</td>\n",
       "      <td>...</td>\n",
       "      <td>0</td>\n",
       "      <td>None</td>\n",
       "      <td>1</td>\n",
       "      <td>1982</td>\n",
       "      <td>88</td>\n",
       "      <td>Z</td>\n",
       "      <td>Y</td>\n",
       "      <td>COSMOS 1405 DEB</td>\n",
       "      <td>1982-088Z</td>\n",
       "      <td>14649</td>\n",
       "    </tr>\n",
       "    <tr>\n",
       "      <th>34780</th>\n",
       "      <td>1986-017HS</td>\n",
       "      <td>22834</td>\n",
       "      <td>DEBRIS</td>\n",
       "      <td>MIR DEB</td>\n",
       "      <td>CIS</td>\n",
       "      <td>1986-02-19</td>\n",
       "      <td>TTMTR</td>\n",
       "      <td>1994-09-03</td>\n",
       "      <td>87.49</td>\n",
       "      <td>51.59</td>\n",
       "      <td>...</td>\n",
       "      <td>0</td>\n",
       "      <td>MEDIUM</td>\n",
       "      <td>7337</td>\n",
       "      <td>1986</td>\n",
       "      <td>17</td>\n",
       "      <td>HS</td>\n",
       "      <td>Y</td>\n",
       "      <td>MIR DEB</td>\n",
       "      <td>1986-017HS</td>\n",
       "      <td>22834</td>\n",
       "    </tr>\n",
       "    <tr>\n",
       "      <th>30610</th>\n",
       "      <td>2006-026PL</td>\n",
       "      <td>33180</td>\n",
       "      <td>DEBRIS</td>\n",
       "      <td>COSMOS 2421 DEB</td>\n",
       "      <td>CIS</td>\n",
       "      <td>2006-06-25</td>\n",
       "      <td>TTMTR</td>\n",
       "      <td>2008-10-10</td>\n",
       "      <td>88.67</td>\n",
       "      <td>65.04</td>\n",
       "      <td>...</td>\n",
       "      <td>0</td>\n",
       "      <td>SMALL</td>\n",
       "      <td>7337</td>\n",
       "      <td>2006</td>\n",
       "      <td>26</td>\n",
       "      <td>PL</td>\n",
       "      <td>Y</td>\n",
       "      <td>COSMOS 2421 DEB</td>\n",
       "      <td>2006-026PL</td>\n",
       "      <td>33180</td>\n",
       "    </tr>\n",
       "    <tr>\n",
       "      <th>33258</th>\n",
       "      <td>2000-057G</td>\n",
       "      <td>26551</td>\n",
       "      <td>DEBRIS</td>\n",
       "      <td>DNEPR 1 DEB</td>\n",
       "      <td>CIS</td>\n",
       "      <td>2000-09-26</td>\n",
       "      <td>TTMTR</td>\n",
       "      <td>2012-06-10</td>\n",
       "      <td>87.54</td>\n",
       "      <td>64.52</td>\n",
       "      <td>...</td>\n",
       "      <td>0</td>\n",
       "      <td>LARGE</td>\n",
       "      <td>7337</td>\n",
       "      <td>2000</td>\n",
       "      <td>57</td>\n",
       "      <td>G</td>\n",
       "      <td>Y</td>\n",
       "      <td>DNEPR 1 DEB</td>\n",
       "      <td>2000-057G</td>\n",
       "      <td>26551</td>\n",
       "    </tr>\n",
       "    <tr>\n",
       "      <th>26305</th>\n",
       "      <td>1993-026D</td>\n",
       "      <td>22786</td>\n",
       "      <td>DEBRIS</td>\n",
       "      <td>ALEXIS DEB</td>\n",
       "      <td>US</td>\n",
       "      <td>1993-04-25</td>\n",
       "      <td>AFWTR</td>\n",
       "      <td>None</td>\n",
       "      <td>NaN</td>\n",
       "      <td>NaN</td>\n",
       "      <td>...</td>\n",
       "      <td>0</td>\n",
       "      <td>None</td>\n",
       "      <td>1</td>\n",
       "      <td>1993</td>\n",
       "      <td>26</td>\n",
       "      <td>D</td>\n",
       "      <td>Y</td>\n",
       "      <td>ALEXIS DEB</td>\n",
       "      <td>1993-026D</td>\n",
       "      <td>22786</td>\n",
       "    </tr>\n",
       "  </tbody>\n",
       "</table>\n",
       "<p>5 rows × 24 columns</p>\n",
       "</div>"
      ],
      "text/plain": [
       "          INTLDES  NORAD_CAT_ID OBJECT_TYPE          SATNAME COUNTRY  \\\n",
       "24745   1982-088Z         14649      DEBRIS  COSMOS 1405 DEB     CIS   \n",
       "34780  1986-017HS         22834      DEBRIS          MIR DEB     CIS   \n",
       "30610  2006-026PL         33180      DEBRIS  COSMOS 2421 DEB     CIS   \n",
       "33258   2000-057G         26551      DEBRIS      DNEPR 1 DEB     CIS   \n",
       "26305   1993-026D         22786      DEBRIS       ALEXIS DEB      US   \n",
       "\n",
       "           LAUNCH   SITE       DECAY  PERIOD  INCLINATION  ...  RCSVALUE  \\\n",
       "24745  1982-09-04  TTMTR  1984-01-04   91.06        64.97  ...         0   \n",
       "34780  1986-02-19  TTMTR  1994-09-03   87.49        51.59  ...         0   \n",
       "30610  2006-06-25  TTMTR  2008-10-10   88.67        65.04  ...         0   \n",
       "33258  2000-09-26  TTMTR  2012-06-10   87.54        64.52  ...         0   \n",
       "26305  1993-04-25  AFWTR        None     NaN          NaN  ...         0   \n",
       "\n",
       "       RCS_SIZE  FILE  LAUNCH_YEAR  LAUNCH_NUM LAUNCH_PIECE  CURRENT  \\\n",
       "24745      None     1         1982          88            Z        Y   \n",
       "34780    MEDIUM  7337         1986          17           HS        Y   \n",
       "30610     SMALL  7337         2006          26           PL        Y   \n",
       "33258     LARGE  7337         2000          57            G        Y   \n",
       "26305      None     1         1993          26            D        Y   \n",
       "\n",
       "           OBJECT_NAME   OBJECT_ID OBJECT_NUMBER  \n",
       "24745  COSMOS 1405 DEB   1982-088Z         14649  \n",
       "34780          MIR DEB  1986-017HS         22834  \n",
       "30610  COSMOS 2421 DEB  2006-026PL         33180  \n",
       "33258      DNEPR 1 DEB   2000-057G         26551  \n",
       "26305       ALEXIS DEB   1993-026D         22786  \n",
       "\n",
       "[5 rows x 24 columns]"
      ]
     },
     "execution_count": 5,
     "metadata": {},
     "output_type": "execute_result"
    }
   ],
   "source": [
    "df.sample(5)"
   ]
  },
  {
   "cell_type": "markdown",
   "metadata": {},
   "source": [
    "## Datos"
   ]
  },
  {
   "cell_type": "code",
   "execution_count": null,
   "metadata": {},
   "outputs": [
    {
     "name": "stdout",
     "output_type": "stream",
     "text": [
      "Cantidad de objetos:\n"
     ]
    },
    {
     "data": {
      "application/vnd.microsoft.datawrangler.viewer.v0+json": {
       "columns": [
        {
         "name": "OBJECT_TYPE",
         "rawType": "object",
         "type": "string"
        },
        {
         "name": "count",
         "rawType": "int64",
         "type": "integer"
        }
       ],
       "ref": "d9b28786-1743-4573-b084-5790283c27b6",
       "rows": [
        [
         "DEBRIS",
         "35606"
        ],
        [
         "PAYLOAD",
         "20328"
        ],
        [
         "ROCKET BODY",
         "6699"
        ],
        [
         "UNKNOWN",
         "888"
        ]
       ],
       "shape": {
        "columns": 1,
        "rows": 4
       }
      },
      "text/plain": [
       "OBJECT_TYPE\n",
       "DEBRIS         35606\n",
       "PAYLOAD        20328\n",
       "ROCKET BODY     6699\n",
       "UNKNOWN          888\n",
       "Name: count, dtype: int64"
      ]
     },
     "execution_count": 23,
     "metadata": {},
     "output_type": "execute_result"
    }
   ],
   "source": [
    "print(\"Cantidad de objetos:\")\n",
    "df[\"OBJECT_TYPE\"].value_counts()"
   ]
  },
  {
   "cell_type": "code",
   "execution_count": null,
   "metadata": {},
   "outputs": [
    {
     "name": "stdout",
     "output_type": "stream",
     "text": [
      "Paises propietarios:\n"
     ]
    },
    {
     "data": {
      "application/vnd.microsoft.datawrangler.viewer.v0+json": {
       "columns": [
        {
         "name": "COUNTRY",
         "rawType": "object",
         "type": "string"
        },
        {
         "name": "count",
         "rawType": "int64",
         "type": "integer"
        }
       ],
       "ref": "f96fa535-fe54-4a30-9b3f-f37b19246c3e",
       "rows": [
        [
         "CIS",
         "24966"
        ],
        [
         "US",
         "23584"
        ],
        [
         "PRC",
         "8469"
        ],
        [
         "FR",
         "1457"
        ],
        [
         "JPN",
         "863"
        ],
        [
         "IND",
         "754"
        ],
        [
         "UK",
         "749"
        ],
        [
         "TBD",
         "417"
        ],
        [
         "ESA",
         "178"
        ],
        [
         "GER",
         "124"
        ],
        [
         "ITSO",
         "113"
        ],
        [
         "ISS",
         "106"
        ],
        [
         "CA",
         "104"
        ],
        [
         "ORB",
         "94"
        ],
        [
         "CHBZ",
         "91"
        ],
        [
         "IT",
         "88"
        ],
        [
         "GLOB",
         "86"
        ],
        [
         "SES",
         "77"
        ],
        [
         "SPN",
         "76"
        ],
        [
         "ARGN",
         "68"
        ],
        [
         "EUTE",
         "62"
        ],
        [
         "AUS",
         "61"
        ],
        [
         "SKOR",
         "59"
        ],
        [
         "ISRA",
         "53"
        ],
        [
         "SEAL",
         "37"
        ],
        [
         "TURK",
         "37"
        ],
        [
         "BRAZ",
         "36"
        ],
        [
         "FIN",
         "35"
        ],
        [
         "TWN",
         "30"
        ],
        [
         "IRAN",
         "30"
        ],
        [
         "SING",
         "25"
        ],
        [
         "NOR",
         "24"
        ],
        [
         "NZ",
         "24"
        ],
        [
         "SWTZ",
         "22"
        ],
        [
         "UAE",
         "22"
        ],
        [
         "INDO",
         "22"
        ],
        [
         "O3B",
         "20"
        ],
        [
         "IM",
         "20"
        ],
        [
         "LUXE",
         "19"
        ],
        [
         "EUME",
         "18"
        ],
        [
         "POL",
         "18"
        ],
        [
         "AB",
         "16"
        ],
        [
         "DEN",
         "16"
        ],
        [
         "BEL",
         "15"
        ],
        [
         "NETH",
         "15"
        ],
        [
         "SAUD",
         "15"
        ],
        [
         "SWED",
         "14"
        ],
        [
         "THAI",
         "14"
        ],
        [
         "LTU",
         "14"
        ],
        [
         "EGYP",
         "13"
        ]
       ],
       "shape": {
        "columns": 1,
        "rows": 120
       }
      },
      "text/plain": [
       "COUNTRY\n",
       "CIS     24966\n",
       "US      23584\n",
       "PRC      8469\n",
       "FR       1457\n",
       "JPN       863\n",
       "        ...  \n",
       "MNG         1\n",
       "GHA         1\n",
       "NICO        1\n",
       "SVK         1\n",
       "BWA         1\n",
       "Name: count, Length: 120, dtype: int64"
      ]
     },
     "execution_count": 24,
     "metadata": {},
     "output_type": "execute_result"
    }
   ],
   "source": [
    "print(\"Paises propietarios:\")\n",
    "df[\"COUNTRY\"].value_counts()"
   ]
  },
  {
   "cell_type": "code",
   "execution_count": 31,
   "metadata": {},
   "outputs": [
    {
     "name": "stdout",
     "output_type": "stream",
     "text": [
      "¿Cuantos objetos tiene Argentina?\n"
     ]
    },
    {
     "data": {
      "application/vnd.microsoft.datawrangler.viewer.v0+json": {
       "columns": [
        {
         "name": "OBJECT_TYPE",
         "rawType": "object",
         "type": "string"
        },
        {
         "name": "count",
         "rawType": "int64",
         "type": "integer"
        }
       ],
       "ref": "7bd3d91c-2ffb-496a-ba70-22f78d5ed1b6",
       "rows": [
        [
         "PAYLOAD",
         "67"
        ],
        [
         "DEBRIS",
         "1"
        ]
       ],
       "shape": {
        "columns": 1,
        "rows": 2
       }
      },
      "text/plain": [
       "OBJECT_TYPE\n",
       "PAYLOAD    67\n",
       "DEBRIS      1\n",
       "Name: count, dtype: int64"
      ]
     },
     "execution_count": 31,
     "metadata": {},
     "output_type": "execute_result"
    }
   ],
   "source": [
    "print(\"¿Cuantos objetos tiene Argentina?\")\n",
    "df[df[\"COUNTRY\"]==\"ARGN\"][\"OBJECT_TYPE\"].value_counts()"
   ]
  },
  {
   "cell_type": "code",
   "execution_count": null,
   "metadata": {},
   "outputs": [
    {
     "name": "stdout",
     "output_type": "stream",
     "text": [
      "Valores faltantes:\n"
     ]
    },
    {
     "data": {
      "application/vnd.microsoft.datawrangler.viewer.v0+json": {
       "columns": [
        {
         "name": "index",
         "rawType": "object",
         "type": "string"
        },
        {
         "name": "0",
         "rawType": "int64",
         "type": "integer"
        }
       ],
       "ref": "7bc793c7-15cd-4ac9-b8d5-e47f238b83d0",
       "rows": [
        [
         "INTLDES",
         "0"
        ],
        [
         "NORAD_CAT_ID",
         "0"
        ],
        [
         "OBJECT_TYPE",
         "0"
        ],
        [
         "SATNAME",
         "0"
        ],
        [
         "COUNTRY",
         "0"
        ],
        [
         "LAUNCH",
         "0"
        ],
        [
         "SITE",
         "0"
        ],
        [
         "DECAY",
         "30079"
        ],
        [
         "PERIOD",
         "973"
        ],
        [
         "INCLINATION",
         "973"
        ],
        [
         "APOGEE",
         "973"
        ],
        [
         "PERIGEE",
         "973"
        ],
        [
         "COMMENT",
         "62575"
        ],
        [
         "COMMENTCODE",
         "59968"
        ],
        [
         "RCSVALUE",
         "0"
        ],
        [
         "RCS_SIZE",
         "10373"
        ],
        [
         "FILE",
         "0"
        ],
        [
         "LAUNCH_YEAR",
         "0"
        ],
        [
         "LAUNCH_NUM",
         "0"
        ],
        [
         "LAUNCH_PIECE",
         "0"
        ],
        [
         "CURRENT",
         "0"
        ],
        [
         "OBJECT_NAME",
         "0"
        ],
        [
         "OBJECT_ID",
         "0"
        ],
        [
         "OBJECT_NUMBER",
         "0"
        ]
       ],
       "shape": {
        "columns": 1,
        "rows": 24
       }
      },
      "text/plain": [
       "INTLDES              0\n",
       "NORAD_CAT_ID         0\n",
       "OBJECT_TYPE          0\n",
       "SATNAME              0\n",
       "COUNTRY              0\n",
       "LAUNCH               0\n",
       "SITE                 0\n",
       "DECAY            30079\n",
       "PERIOD             973\n",
       "INCLINATION        973\n",
       "APOGEE             973\n",
       "PERIGEE            973\n",
       "COMMENT          62575\n",
       "COMMENTCODE      59968\n",
       "RCSVALUE             0\n",
       "RCS_SIZE         10373\n",
       "FILE                 0\n",
       "LAUNCH_YEAR          0\n",
       "LAUNCH_NUM           0\n",
       "LAUNCH_PIECE         0\n",
       "CURRENT              0\n",
       "OBJECT_NAME          0\n",
       "OBJECT_ID            0\n",
       "OBJECT_NUMBER        0\n",
       "dtype: int64"
      ]
     },
     "execution_count": 62,
     "metadata": {},
     "output_type": "execute_result"
    }
   ],
   "source": [
    "print(\"Valores faltantes:\")\n",
    "df.isna().sum() # Ver DECAY"
   ]
  },
  {
   "cell_type": "code",
   "execution_count": 66,
   "metadata": {},
   "outputs": [
    {
     "data": {
      "application/vnd.microsoft.datawrangler.viewer.v0+json": {
       "columns": [
        {
         "name": "RCS_SIZE",
         "rawType": "object",
         "type": "string"
        },
        {
         "name": "count",
         "rawType": "int64",
         "type": "integer"
        }
       ],
       "ref": "72e4a850-9f37-4b65-b22f-c22cc81967ea",
       "rows": [
        [
         "SMALL",
         "24933"
        ],
        [
         "LARGE",
         "19345"
        ],
        [
         "MEDIUM",
         "8870"
        ]
       ],
       "shape": {
        "columns": 1,
        "rows": 3
       }
      },
      "text/plain": [
       "RCS_SIZE\n",
       "SMALL     24933\n",
       "LARGE     19345\n",
       "MEDIUM     8870\n",
       "Name: count, dtype: int64"
      ]
     },
     "execution_count": 66,
     "metadata": {},
     "output_type": "execute_result"
    }
   ],
   "source": [
    "df[\"RCS_SIZE\"].value_counts()"
   ]
  },
  {
   "cell_type": "markdown",
   "metadata": {},
   "source": [
    "## Gráficos"
   ]
  },
  {
   "cell_type": "markdown",
   "metadata": {},
   "source": [
    "### Satelites lanzados por año"
   ]
  },
  {
   "cell_type": "code",
   "execution_count": null,
   "metadata": {},
   "outputs": [
    {
     "data": {
      "application/vnd.microsoft.datawrangler.viewer.v0+json": {
       "columns": [
        {
         "name": "LAUNCH_YEAR",
         "rawType": "int64",
         "type": "integer"
        },
        {
         "name": "count",
         "rawType": "int64",
         "type": "integer"
        }
       ],
       "ref": "922f43c4-e144-4965-954d-4fc50deffa67",
       "rows": [
        [
         "2023",
         "2692"
        ],
        [
         "2024",
         "2589"
        ],
        [
         "2022",
         "2270"
        ],
        [
         "2021",
         "1726"
        ],
        [
         "2020",
         "1232"
        ],
        [
         "2025",
         "940"
        ],
        [
         "1998",
         "508"
        ],
        [
         "2019",
         "415"
        ],
        [
         "2018",
         "384"
        ],
        [
         "2017",
         "381"
        ],
        [
         "2013",
         "204"
        ],
        [
         "2014",
         "193"
        ],
        [
         "2016",
         "176"
        ],
        [
         "1984",
         "173"
        ],
        [
         "2015",
         "172"
        ],
        [
         "1985",
         "166"
        ],
        [
         "1990",
         "166"
        ],
        [
         "1978",
         "165"
        ],
        [
         "1983",
         "161"
        ],
        [
         "1981",
         "159"
        ],
        [
         "1976",
         "159"
        ],
        [
         "1965",
         "158"
        ],
        [
         "1967",
         "158"
        ],
        [
         "1975",
         "155"
        ],
        [
         "1971",
         "154"
        ],
        [
         "1997",
         "152"
        ],
        [
         "1966",
         "145"
        ],
        [
         "1982",
         "143"
        ],
        [
         "1988",
         "143"
        ],
        [
         "1987",
         "140"
        ],
        [
         "1969",
         "139"
        ],
        [
         "1968",
         "139"
        ],
        [
         "1989",
         "137"
        ],
        [
         "1991",
         "136"
        ],
        [
         "1986",
         "136"
        ],
        [
         "1977",
         "136"
        ],
        [
         "1973",
         "135"
        ],
        [
         "1980",
         "130"
        ],
        [
         "1972",
         "130"
        ],
        [
         "1992",
         "129"
        ],
        [
         "1970",
         "129"
        ],
        [
         "2011",
         "127"
        ],
        [
         "2012",
         "126"
        ],
        [
         "1999",
         "126"
        ],
        [
         "1974",
         "126"
        ],
        [
         "2009",
         "123"
        ],
        [
         "1994",
         "123"
        ],
        [
         "1979",
         "123"
        ],
        [
         "2010",
         "120"
        ],
        [
         "2000",
         "119"
        ]
       ],
       "shape": {
        "columns": 1,
        "rows": 69
       }
      },
      "text/plain": [
       "LAUNCH_YEAR\n",
       "2023    2692\n",
       "2024    2589\n",
       "2022    2270\n",
       "2021    1726\n",
       "2020    1232\n",
       "        ... \n",
       "1961      41\n",
       "1960      21\n",
       "1959      15\n",
       "1958       8\n",
       "1957       2\n",
       "Name: count, Length: 69, dtype: int64"
      ]
     },
     "execution_count": 60,
     "metadata": {},
     "output_type": "execute_result"
    }
   ],
   "source": [
    "df[df[\"OBJECT_TYPE\"]==\"PAYLOAD\"][\"LAUNCH_YEAR\"].value_counts()\n",
    "#df[(df[\"OBJECT_TYPE\"] == \"PAYLOAD\") & (df[\"LAUNCH_YEAR\"] == 1998)]"
   ]
  },
  {
   "cell_type": "code",
   "execution_count": 57,
   "metadata": {},
   "outputs": [
    {
     "data": {
      "text/plain": [
       "[]"
      ]
     },
     "execution_count": 57,
     "metadata": {},
     "output_type": "execute_result"
    },
    {
     "data": {
      "image/png": "[encoded data removed]",
      "text/plain": [
       "<Figure size 640x480 with 1 Axes>"
      ]
     },
     "metadata": {},
     "output_type": "display_data"
    }
   ],
   "source": [
    "plt.hist(df[df[\"OBJECT_TYPE\"]==\"PAYLOAD\"][\"LAUNCH_YEAR\"], bins=df[\"LAUNCH_YEAR\"].unique())\n",
    "plt.title(\"Satélites lanzados por año\")\n",
    "plt.plot()"
   ]
  },
  {
   "cell_type": "markdown",
   "metadata": {},
   "source": [
    "### Tamaño de los objetos"
   ]
  },
  {
   "cell_type": "code",
   "execution_count": 79,
   "metadata": {},
   "outputs": [
    {
     "data": {
      "image/png": "[encoded data removed]",
      "text/plain": [
       "<Figure size 640x480 with 2 Axes>"
      ]
     },
     "metadata": {},
     "output_type": "display_data"
    }
   ],
   "source": [
    "df_aux = df.pivot_table(index=\"RCS_SIZE\", columns=\"OBJECT_TYPE\", values=\"NORAD_CAT_ID\", aggfunc=\"count\")\n",
    "sns.heatmap(df_aux, annot=True, fmt=\"d\")\n",
    "plt.xlabel(\"Tipo de objeto\")\n",
    "plt.ylabel(\"Tamaño de objeto\")\n",
    "plt.show()"
   ]
  },
  {
   "cell_type": "code",
   "execution_count": 15,
   "metadata": {},
   "outputs": [
    {
     "data": {
      "image/png": "[encoded data removed]",
      "text/plain": [
       "<Figure size 1200x600 with 1 Axes>"
      ]
     },
     "metadata": {},
     "output_type": "display_data"
    }
   ],
   "source": [
    "grouped = df.groupby([\"COUNTRY\", \"OBJECT_TYPE\"]).size().unstack(fill_value=0)\n",
    "\n",
    "# Seleccionar los países con más objetos totales\n",
    "top_countries = grouped.sum(axis=1).sort_values(ascending=False).head(5)\n",
    "\n",
    "# Filtrar el DataFrame original con los 10 países principales\n",
    "grouped_top = grouped.loc[top_countries.index]\n",
    "\n",
    "# Crear gráfico de barras apiladas\n",
    "plt.figure(figsize=(12, 6))\n",
    "\n",
    "bottom = None\n",
    "for object_type in grouped_top.columns:\n",
    "    plt.bar(\n",
    "        grouped_top.index,\n",
    "        grouped_top[object_type],\n",
    "        bottom=bottom,\n",
    "        label=object_type\n",
    "    )\n",
    "    if bottom is None:\n",
    "        bottom = grouped_top[object_type]\n",
    "    else:\n",
    "        bottom += grouped_top[object_type]"
   ]
  },
  {
   "cell_type": "code",
   "execution_count": null,
   "metadata": {},
   "outputs": [],
   "source": []
  }
 ],
 "metadata": {
  "kernelspec": {
   "display_name": "env_1",
   "language": "python",
   "name": "python3"
  },
  "language_info": {
   "codemirror_mode": {
    "name": "ipython",
    "version": 3
   },
   "file_extension": ".py",
   "mimetype": "text/x-python",
   "name": "python",
   "nbconvert_exporter": "python",
   "pygments_lexer": "ipython3",
   "version": "3.11.4"
  }
 },
 "nbformat": 4,
 "nbformat_minor": 2
}
